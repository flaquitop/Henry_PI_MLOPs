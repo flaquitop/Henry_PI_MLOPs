{
 "cells": [
  {
   "cell_type": "markdown",
   "metadata": {},
   "source": [
    "## ETL\n",
    "### Export, Transform & Load"
   ]
  },
  {
   "cell_type": "markdown",
   "metadata": {},
   "source": [
    "Comienzo importando las librerias necesarias"
   ]
  },
  {
   "cell_type": "code",
   "execution_count": 1,
   "metadata": {},
   "outputs": [],
   "source": [
    "import pandas as pd\n",
    "import json"
   ]
  },
  {
   "cell_type": "markdown",
   "metadata": {},
   "source": [
    "### Creamos el dataset de Games"
   ]
  },
  {
   "cell_type": "markdown",
   "metadata": {},
   "source": [
    "Procedo a hacer el ETL (carga, transformacion y guardado) en un CSV."
   ]
  },
  {
   "cell_type": "code",
   "execution_count": 24,
   "metadata": {},
   "outputs": [],
   "source": [
    "### Se carga el JSON en un Dataframe ###\n",
    "\n",
    "data = []\n",
    "with open('output_steam_games.json') as e:\n",
    "    for line in e:\n",
    "        data.append(json.loads(line))\n",
    "dfgames = pd.DataFrame(data)"
   ]
  },
  {
   "cell_type": "markdown",
   "metadata": {},
   "source": [
    "Eliminacion de valores faltantes"
   ]
  },
  {
   "cell_type": "code",
   "execution_count": 25,
   "metadata": {},
   "outputs": [],
   "source": [
    "dfgames = dfgames.dropna()"
   ]
  },
  {
   "cell_type": "markdown",
   "metadata": {},
   "source": [
    "Repaso columnas analisandolas para saber cuale son indeseadas para su posterior eliminacion"
   ]
  },
  {
   "cell_type": "code",
   "execution_count": 26,
   "metadata": {},
   "outputs": [
    {
     "data": {
      "text/plain": [
       "Index(['publisher', 'genres', 'app_name', 'title', 'url', 'release_date',\n",
       "       'tags', 'reviews_url', 'specs', 'price', 'early_access', 'id',\n",
       "       'developer'],\n",
       "      dtype='object')"
      ]
     },
     "execution_count": 26,
     "metadata": {},
     "output_type": "execute_result"
    }
   ],
   "source": [
    "dfgames.columns"
   ]
  },
  {
   "cell_type": "markdown",
   "metadata": {},
   "source": [
    "Procedo a eliminar columnas indeseadas"
   ]
  },
  {
   "cell_type": "code",
   "execution_count": 27,
   "metadata": {},
   "outputs": [],
   "source": [
    "dfgames = dfgames.drop(columns=['developer', 'publisher', 'early_access', 'reviews_url', 'price', 'url', 'specs', 'tags', 'app_name'])"
   ]
  },
  {
   "cell_type": "markdown",
   "metadata": {},
   "source": [
    "Creo dummies para la columna genero"
   ]
  },
  {
   "cell_type": "code",
   "execution_count": 28,
   "metadata": {},
   "outputs": [],
   "source": [
    "### Primero que nada, rellenamos los valores faltantes con una lista vacia ###\n",
    "dfgames['genres'] = dfgames['genres'].fillna('[]')\n",
    "\n",
    "### Posteriormente convertimos la lista de generos a una lista separada por comas ###\n",
    "dfgames['genres'] = dfgames['genres'].apply(lambda x: ', '.join(x))\n",
    "\n",
    "### Creo los dummies para la columna 'genres' ###\n",
    "dummy_genres = dfgames['genres'].str.get_dummies(', ')\n",
    "\n",
    "### Lo fusiono con el Dataframe original ###\n",
    "dfgames_dummies = pd.concat([dfgames, dummy_genres], axis=1)"
   ]
  },
  {
   "cell_type": "code",
   "execution_count": 29,
   "metadata": {},
   "outputs": [],
   "source": [
    "dfgames = dfgames_dummies"
   ]
  },
  {
   "cell_type": "markdown",
   "metadata": {},
   "source": [
    "Se modificó la columna 'release_date' a tipo year para trabajar facilmente con los años"
   ]
  },
  {
   "cell_type": "code",
   "execution_count": 30,
   "metadata": {},
   "outputs": [
    {
     "name": "stderr",
     "output_type": "stream",
     "text": [
      "C:\\Users\\tiago\\AppData\\Local\\Temp\\ipykernel_5396\\3726339654.py:8: SettingWithCopyWarning: \n",
      "A value is trying to be set on a copy of a slice from a DataFrame.\n",
      "Try using .loc[row_indexer,col_indexer] = value instead\n",
      "\n",
      "See the caveats in the documentation: https://pandas.pydata.org/pandas-docs/stable/user_guide/indexing.html#returning-a-view-versus-a-copy\n",
      "  df_filtered[\"release_date\"] = pd.to_datetime(df_filtered[\"release_date\"])\n"
     ]
    }
   ],
   "source": [
    "### Se reemplazan los valores no validos por NaT ###\n",
    "dfgames[\"release_date\"] = pd.to_datetime(dfgames[\"release_date\"], errors='coerce')\n",
    "\n",
    "### Filtro el Dataframe solo por los valores validos ###\n",
    "df_filtered = dfgames.dropna(subset=[\"release_date\"])\n",
    "\n",
    "### Convierto la columna 'release_date' a tipo Datetime ###\n",
    "df_filtered[\"release_date\"] = pd.to_datetime(df_filtered[\"release_date\"])\n",
    "\n",
    "### Relleno los valores faltantes en las columna 'release_date' con la moda ###\n",
    "columns_fill_mode = ['release_date']\n",
    "for col in columns_fill_mode:\n",
    "    dfgames[col].fillna(dfgames[col].mode()[0], inplace=True)\n",
    "\n",
    "### Modifico y posteriormente elimino la columna 'release_date' ###\n",
    "dfgames['year'] = dfgames['release_date'].dt.year.astype('Int64')\n",
    "\n",
    "dfgames.drop('release_date', axis=1, inplace=True)"
   ]
  },
  {
   "cell_type": "code",
   "execution_count": 2,
   "metadata": {},
   "outputs": [
    {
     "ename": "NameError",
     "evalue": "name 'dfgames' is not defined",
     "output_type": "error",
     "traceback": [
      "\u001b[1;31m---------------------------------------------------------------------------\u001b[0m",
      "\u001b[1;31mNameError\u001b[0m                                 Traceback (most recent call last)",
      "Cell \u001b[1;32mIn[2], line 2\u001b[0m\n\u001b[0;32m      1\u001b[0m \u001b[38;5;66;03m### Vemos como va quedando ordenado y limpio el Dataframe 'Games' ###\u001b[39;00m\n\u001b[1;32m----> 2\u001b[0m \u001b[43mdfgames\u001b[49m\n",
      "\u001b[1;31mNameError\u001b[0m: name 'dfgames' is not defined"
     ]
    }
   ],
   "source": [
    "### Vemos como va quedando ordenado y limpio el Dataframe 'Games' ###\n",
    "dfgames"
   ]
  },
  {
   "cell_type": "markdown",
   "metadata": {},
   "source": [
    "Las columnas finales"
   ]
  },
  {
   "cell_type": "code",
   "execution_count": 32,
   "metadata": {},
   "outputs": [
    {
     "data": {
      "text/plain": [
       "Index(['genres', 'title', 'id', 'Action', 'Adventure',\n",
       "       'Animation &amp; Modeling', 'Audio Production', 'Casual',\n",
       "       'Design &amp; Illustration', 'Early Access', 'Education',\n",
       "       'Free to Play', 'Indie', 'Massively Multiplayer', 'Photo Editing',\n",
       "       'RPG', 'Racing', 'Simulation', 'Software Training', 'Sports',\n",
       "       'Strategy', 'Utilities', 'Video Production', 'Web Publishing', 'year'],\n",
       "      dtype='object')"
      ]
     },
     "execution_count": 32,
     "metadata": {},
     "output_type": "execute_result"
    }
   ],
   "source": [
    "dfgames.columns"
   ]
  },
  {
   "cell_type": "markdown",
   "metadata": {},
   "source": [
    "Guardo el Dataframe en un CSV para un uso mas sencillo"
   ]
  },
  {
   "cell_type": "code",
   "execution_count": null,
   "metadata": {},
   "outputs": [],
   "source": [
    "dfgames.to_csv('games_clean.csv')"
   ]
  },
  {
   "cell_type": "markdown",
   "metadata": {},
   "source": [
    "### Datasets de Reviews"
   ]
  },
  {
   "cell_type": "markdown",
   "metadata": {},
   "source": [
    "Se procede a hacer el ETL (carga, transformacion y guardado) en un CSV."
   ]
  },
  {
   "cell_type": "code",
   "execution_count": null,
   "metadata": {},
   "outputs": [],
   "source": [
    "with open(\"australian_user_reviews.json\", 'r', encoding='utf-8') as w:\n",
    "    data = w.readlines()\n",
    "    \n",
    "datos = [eval(line.strip()) for line in data]\n",
    "\n",
    "df_reviews = pd.DataFrame(datos)\n",
    "df_reviews.head()"
   ]
  },
  {
   "cell_type": "markdown",
   "metadata": {},
   "source": [
    "### Desanidado de la columna Reviews\n",
    "\n",
    "Primero creo un dataframe con el archivo review para acceder a la columna que me interesa"
   ]
  },
  {
   "cell_type": "code",
   "execution_count": null,
   "metadata": {},
   "outputs": [],
   "source": [
    "df_reviews_open = df_reviews.explode('reviews')\n",
    "\n",
    "### Con este bloque de codigo creo un nuevo dataframe con la info ya desanidada ###\n",
    "\n",
    "dfreviewsopen = pd.concat([df_reviews_open.drop(['reviews'], axis=1), df_reviews_open['reviews'].apply(pd.Series)], axis=1)"
   ]
  },
  {
   "cell_type": "markdown",
   "metadata": {},
   "source": [
    "Creo la columna 'posted year' para trabajar simplemente con el año"
   ]
  },
  {
   "cell_type": "code",
   "execution_count": null,
   "metadata": {},
   "outputs": [],
   "source": [
    "dfreviewsopen['posted year'] = dfreviewsopen['posted'].str.extract(r'(\\d{4})')"
   ]
  },
  {
   "cell_type": "markdown",
   "metadata": {},
   "source": [
    "De paso elimino la columna 'posted' ya que no me sirve"
   ]
  },
  {
   "cell_type": "code",
   "execution_count": null,
   "metadata": {},
   "outputs": [],
   "source": [
    "dfreviewsopen.drop('posted' , axis = 1, inplace = True)"
   ]
  },
  {
   "cell_type": "code",
   "execution_count": null,
   "metadata": {},
   "outputs": [],
   "source": [
    "### Breve vistazo de como se ve el dataframe ###\n",
    "dfreviewsopen.head(3)"
   ]
  },
  {
   "cell_type": "markdown",
   "metadata": {},
   "source": [
    "### Implementando el Sentimental Score"
   ]
  },
  {
   "cell_type": "code",
   "execution_count": null,
   "metadata": {},
   "outputs": [],
   "source": [
    "\n",
    "### Importacion de las librerias ###\n",
    "import nltk\n",
    "nltk.download('vader_lexicon')\n",
    "from nltk.sentiment.vader import SentimentIntensityAnalyzer\n",
    "\n",
    "### Inicializacion del analizador de sentimientos ### \n",
    "sia = SentimentIntensityAnalyzer()\n",
    "\n",
    "### Definición de la función get_sentiment_score() ###\n",
    "def get_sentiment_score(text):\n",
    "    if pd.isnull(text) or text == '':\n",
    "        return 1  ### Retorna neutral si el texto esta vacio o es nulo ###\n",
    "    elif isinstance(text, str):\n",
    "        sentiment = sia.polarity_scores(text)\n",
    "        compound_score = sentiment['compound']\n",
    "        if compound_score >= -0.05:\n",
    "            return 0  ### Buen puntaje ###\n",
    "        elif compound_score <= -0.05:\n",
    "            return 2  ### Mal puntaje ###\n",
    "        else:\n",
    "            return 1 ### Neutral ###\n",
    "    else:\n",
    "        return 1  ### Si el texto no es una cadena tambien devuelve 1 (neutral) ###\n",
    "\n",
    "\n",
    "### Convierto la columna 'review' a tipo de dato 'str' ###\n",
    "dfreviewsopen['review'] = dfreviewsopen['review'].astype(str)\n",
    "\n",
    "### Aplico la función get_sentiment_score() a la columna 'review' ###\n",
    "dfreviewsopen['sentiment_score'] = dfreviewsopen['review'].apply(get_sentiment_score)\n",
    "\n",
    "### Imprimo el dataframe actualizado y finalizado ###\n",
    "print(dfreviewsopen)"
   ]
  },
  {
   "cell_type": "code",
   "execution_count": 12,
   "metadata": {},
   "outputs": [],
   "source": [
    "dfreviewsopen.to_csv('clean_reviews.csv')"
   ]
  },
  {
   "cell_type": "markdown",
   "metadata": {},
   "source": [
    "### Dataset de Items\n",
    "\n",
    "Se procede a hacer el ETL (carga, transformacion y guardado) en un CSV."
   ]
  },
  {
   "cell_type": "code",
   "execution_count": 14,
   "metadata": {},
   "outputs": [
    {
     "data": {
      "text/html": [
       "<div>\n",
       "<style scoped>\n",
       "    .dataframe tbody tr th:only-of-type {\n",
       "        vertical-align: middle;\n",
       "    }\n",
       "\n",
       "    .dataframe tbody tr th {\n",
       "        vertical-align: top;\n",
       "    }\n",
       "\n",
       "    .dataframe thead th {\n",
       "        text-align: right;\n",
       "    }\n",
       "</style>\n",
       "<table border=\"1\" class=\"dataframe\">\n",
       "  <thead>\n",
       "    <tr style=\"text-align: right;\">\n",
       "      <th></th>\n",
       "      <th>user_id</th>\n",
       "      <th>items_count</th>\n",
       "      <th>steam_id</th>\n",
       "      <th>user_url</th>\n",
       "      <th>items</th>\n",
       "    </tr>\n",
       "  </thead>\n",
       "  <tbody>\n",
       "    <tr>\n",
       "      <th>0</th>\n",
       "      <td>76561197970982479</td>\n",
       "      <td>277</td>\n",
       "      <td>76561197970982479</td>\n",
       "      <td>http://steamcommunity.com/profiles/76561197970...</td>\n",
       "      <td>[{'item_id': '10', 'item_name': 'Counter-Strik...</td>\n",
       "    </tr>\n",
       "    <tr>\n",
       "      <th>1</th>\n",
       "      <td>js41637</td>\n",
       "      <td>888</td>\n",
       "      <td>76561198035864385</td>\n",
       "      <td>http://steamcommunity.com/id/js41637</td>\n",
       "      <td>[{'item_id': '10', 'item_name': 'Counter-Strik...</td>\n",
       "    </tr>\n",
       "    <tr>\n",
       "      <th>2</th>\n",
       "      <td>evcentric</td>\n",
       "      <td>137</td>\n",
       "      <td>76561198007712555</td>\n",
       "      <td>http://steamcommunity.com/id/evcentric</td>\n",
       "      <td>[{'item_id': '1200', 'item_name': 'Red Orchest...</td>\n",
       "    </tr>\n",
       "    <tr>\n",
       "      <th>3</th>\n",
       "      <td>Riot-Punch</td>\n",
       "      <td>328</td>\n",
       "      <td>76561197963445855</td>\n",
       "      <td>http://steamcommunity.com/id/Riot-Punch</td>\n",
       "      <td>[{'item_id': '10', 'item_name': 'Counter-Strik...</td>\n",
       "    </tr>\n",
       "    <tr>\n",
       "      <th>4</th>\n",
       "      <td>doctr</td>\n",
       "      <td>541</td>\n",
       "      <td>76561198002099482</td>\n",
       "      <td>http://steamcommunity.com/id/doctr</td>\n",
       "      <td>[{'item_id': '300', 'item_name': 'Day of Defea...</td>\n",
       "    </tr>\n",
       "  </tbody>\n",
       "</table>\n",
       "</div>"
      ],
      "text/plain": [
       "             user_id  items_count           steam_id  \\\n",
       "0  76561197970982479          277  76561197970982479   \n",
       "1            js41637          888  76561198035864385   \n",
       "2          evcentric          137  76561198007712555   \n",
       "3         Riot-Punch          328  76561197963445855   \n",
       "4              doctr          541  76561198002099482   \n",
       "\n",
       "                                            user_url  \\\n",
       "0  http://steamcommunity.com/profiles/76561197970...   \n",
       "1               http://steamcommunity.com/id/js41637   \n",
       "2             http://steamcommunity.com/id/evcentric   \n",
       "3            http://steamcommunity.com/id/Riot-Punch   \n",
       "4                 http://steamcommunity.com/id/doctr   \n",
       "\n",
       "                                               items  \n",
       "0  [{'item_id': '10', 'item_name': 'Counter-Strik...  \n",
       "1  [{'item_id': '10', 'item_name': 'Counter-Strik...  \n",
       "2  [{'item_id': '1200', 'item_name': 'Red Orchest...  \n",
       "3  [{'item_id': '10', 'item_name': 'Counter-Strik...  \n",
       "4  [{'item_id': '300', 'item_name': 'Day of Defea...  "
      ]
     },
     "execution_count": 14,
     "metadata": {},
     "output_type": "execute_result"
    }
   ],
   "source": [
    "with open(\"australian_users_items.json\", 'r', encoding='utf-8') as i:\n",
    "    data = i.readlines()\n",
    "    \n",
    "records = [eval(line.strip()) for line in data]\n",
    "\n",
    "item_df = pd.DataFrame(records)\n",
    "item_df.head()"
   ]
  },
  {
   "cell_type": "markdown",
   "metadata": {},
   "source": [
    "Hacemos un paneo para ver que items necesito"
   ]
  },
  {
   "cell_type": "code",
   "execution_count": 15,
   "metadata": {},
   "outputs": [
    {
     "name": "stdout",
     "output_type": "stream",
     "text": [
      "[{'item_id': '10', 'item_name': 'Counter-Strike', 'playtime_forever': 6, 'playtime_2weeks': 0}, {'item_id': '20', 'item_name': 'Team Fortress Classic', 'playtime_forever': 0, 'playtime_2weeks': 0}, {'item_id': '30', 'item_name': 'Day of Defeat', 'playtime_forever': 7, 'playtime_2weeks': 0}, {'item_id': '40', 'item_name': 'Deathmatch Classic', 'playtime_forever': 0, 'playtime_2weeks': 0}, {'item_id': '50', 'item_name': 'Half-Life: Opposing Force', 'playtime_forever': 0, 'playtime_2weeks': 0}, {'item_id': '60', 'item_name': 'Ricochet', 'playtime_forever': 0, 'playtime_2weeks': 0}, {'item_id': '70', 'item_name': 'Half-Life', 'playtime_forever': 0, 'playtime_2weeks': 0}, {'item_id': '130', 'item_name': 'Half-Life: Blue Shift', 'playtime_forever': 0, 'playtime_2weeks': 0}, {'item_id': '300', 'item_name': 'Day of Defeat: Source', 'playtime_forever': 4733, 'playtime_2weeks': 0}, {'item_id': '240', 'item_name': 'Counter-Strike: Source', 'playtime_forever': 1853, 'playtime_2weeks': 0}, {'item_id': '3830', 'item_name': 'Psychonauts', 'playtime_forever': 333, 'playtime_2weeks': 0}, {'item_id': '2630', 'item_name': 'Call of Duty 2', 'playtime_forever': 75, 'playtime_2weeks': 0}, {'item_id': '3900', 'item_name': \"Sid Meier's Civilization IV\", 'playtime_forever': 338, 'playtime_2weeks': 0}, {'item_id': '34440', 'item_name': \"Sid Meier's Civilization IV\", 'playtime_forever': 0, 'playtime_2weeks': 0}, {'item_id': '3920', 'item_name': \"Sid Meier's Pirates!\", 'playtime_forever': 2, 'playtime_2weeks': 0}, {'item_id': '6400', 'item_name': 'Joint Task Force', 'playtime_forever': 286, 'playtime_2weeks': 0}, {'item_id': '6910', 'item_name': 'Deus Ex: Game of the Year Edition', 'playtime_forever': 2685, 'playtime_2weeks': 0}, {'item_id': '7670', 'item_name': 'BioShock', 'playtime_forever': 633, 'playtime_2weeks': 0}, {'item_id': '409710', 'item_name': 'BioShock Remastered', 'playtime_forever': 0, 'playtime_2weeks': 0}, {'item_id': '220', 'item_name': 'Half-Life 2', 'playtime_forever': 696, 'playtime_2weeks': 0}, {'item_id': '320', 'item_name': 'Half-Life 2: Deathmatch', 'playtime_forever': 0, 'playtime_2weeks': 0}, {'item_id': '340', 'item_name': 'Half-Life 2: Lost Coast', 'playtime_forever': 37, 'playtime_2weeks': 0}, {'item_id': '360', 'item_name': 'Half-Life Deathmatch: Source', 'playtime_forever': 0, 'playtime_2weeks': 0}, {'item_id': '380', 'item_name': 'Half-Life 2: Episode One', 'playtime_forever': 168, 'playtime_2weeks': 0}, {'item_id': '400', 'item_name': 'Portal', 'playtime_forever': 173, 'playtime_2weeks': 0}, {'item_id': '420', 'item_name': 'Half-Life 2: Episode Two', 'playtime_forever': 323, 'playtime_2weeks': 0}, {'item_id': '9340', 'item_name': 'Company of Heroes: Opposing Fronts', 'playtime_forever': 692, 'playtime_2weeks': 0}, {'item_id': '228200', 'item_name': 'Company of Heroes (New Steam Version)', 'playtime_forever': 0, 'playtime_2weeks': 0}, {'item_id': '11450', 'item_name': 'Overlord', 'playtime_forever': 0, 'playtime_2weeks': 0}, {'item_id': '7940', 'item_name': 'Call of Duty 4: Modern Warfare', 'playtime_forever': 1185, 'playtime_2weeks': 0}, {'item_id': '4700', 'item_name': 'Medieval II: Total War', 'playtime_forever': 477, 'playtime_2weeks': 0}, {'item_id': '12900', 'item_name': 'Audiosurf', 'playtime_forever': 115, 'playtime_2weeks': 0}, {'item_id': '13250', 'item_name': 'Unreal Gold', 'playtime_forever': 0, 'playtime_2weeks': 0}, {'item_id': '16100', 'item_name': 'Virtual Villagers: A New Home', 'playtime_forever': 0, 'playtime_2weeks': 0}, {'item_id': '15700', 'item_name': \"Oddworld: Abe's Oddysee\", 'playtime_forever': 28, 'playtime_2weeks': 0}, {'item_id': '15710', 'item_name': \"Oddworld: Abe's Exoddus\", 'playtime_forever': 0, 'playtime_2weeks': 0}, {'item_id': '17330', 'item_name': 'Crysis Warhead', 'playtime_forever': 31, 'playtime_2weeks': 0}, {'item_id': '17340', 'item_name': 'Crysis Wars', 'playtime_forever': 0, 'playtime_2weeks': 0}, {'item_id': '22000', 'item_name': 'World of Goo', 'playtime_forever': 195, 'playtime_2weeks': 0}, {'item_id': '500', 'item_name': 'Left 4 Dead', 'playtime_forever': 513, 'playtime_2weeks': 0}, {'item_id': '4560', 'item_name': 'Company of Heroes', 'playtime_forever': 1061, 'playtime_2weeks': 0}, {'item_id': '17460', 'item_name': 'Mass Effect', 'playtime_forever': 1613, 'playtime_2weeks': 0}, {'item_id': '10500', 'item_name': 'Empire: Total War', 'playtime_forever': 186, 'playtime_2weeks': 0}, {'item_id': '24740', 'item_name': 'Burnout Paradise: The Ultimate Box', 'playtime_forever': 0, 'playtime_2weeks': 0}, {'item_id': '22200', 'item_name': 'Zeno Clash', 'playtime_forever': 271, 'playtime_2weeks': 0}, {'item_id': '26800', 'item_name': 'Braid', 'playtime_forever': 445, 'playtime_2weeks': 0}, {'item_id': '1250', 'item_name': 'Killing Floor', 'playtime_forever': 10006, 'playtime_2weeks': 0}, {'item_id': '35420', 'item_name': 'Killing Floor Mod: Defence Alliance 2', 'playtime_forever': 0, 'playtime_2weeks': 0}, {'item_id': '3590', 'item_name': 'Plants vs. Zombies: Game of the Year', 'playtime_forever': 4413, 'playtime_2weeks': 0}, {'item_id': '8880', 'item_name': 'Freedom Force', 'playtime_forever': 0, 'playtime_2weeks': 0}, {'item_id': '8890', 'item_name': 'Freedom Force vs. the 3rd Reich', 'playtime_forever': 0, 'playtime_2weeks': 0}, {'item_id': '23120', 'item_name': 'Droplitz', 'playtime_forever': 53, 'playtime_2weeks': 0}, {'item_id': '35700', 'item_name': 'Trine', 'playtime_forever': 199, 'playtime_2weeks': 0}, {'item_id': '10140', 'item_name': '3D Ultra Minigolf Adventures Deluxe', 'playtime_forever': 25, 'playtime_2weeks': 0}, {'item_id': '35010', 'item_name': 'Batman: Arkham Asylum', 'playtime_forever': 570, 'playtime_2weeks': 0}, {'item_id': '35140', 'item_name': 'Batman: Arkham Asylum GOTY Edition', 'playtime_forever': 0, 'playtime_2weeks': 0}, {'item_id': '29180', 'item_name': 'Osmos', 'playtime_forever': 940, 'playtime_2weeks': 0}, {'item_id': '15520', 'item_name': 'AaAaAA!!! - A Reckless Disregard for Gravity', 'playtime_forever': 110, 'playtime_2weeks': 0}, {'item_id': '32370', 'item_name': 'STAR WARS™: Knights of the Old Republic™', 'playtime_forever': 5, 'playtime_2weeks': 0}, {'item_id': '37700', 'item_name': 'Darkest of Days', 'playtime_forever': 782, 'playtime_2weeks': 0}, {'item_id': '6020', 'item_name': 'STAR WARS™ Jedi Knight: Jedi Academy™', 'playtime_forever': 77, 'playtime_2weeks': 0}, {'item_id': '24860', 'item_name': 'Battlefield 2', 'playtime_forever': 437, 'playtime_2weeks': 0}, {'item_id': '39530', 'item_name': 'Painkiller: Black Edition', 'playtime_forever': 503, 'playtime_2weeks': 0}, {'item_id': '550', 'item_name': 'Left 4 Dead 2', 'playtime_forever': 1474, 'playtime_2weeks': 0}, {'item_id': '223530', 'item_name': 'Left 4 Dead 2 Beta', 'playtime_forever': 0, 'playtime_2weeks': 0}, {'item_id': '8980', 'item_name': 'Borderlands', 'playtime_forever': 3061, 'playtime_2weeks': 0}, {'item_id': '41500', 'item_name': 'Torchlight', 'playtime_forever': 536, 'playtime_2weeks': 0}, {'item_id': '20900', 'item_name': 'The Witcher: Enhanced Edition', 'playtime_forever': 139, 'playtime_2weeks': 0}, {'item_id': '10180', 'item_name': 'Call of Duty: Modern Warfare 2', 'playtime_forever': 1886, 'playtime_2weeks': 0}, {'item_id': '10190', 'item_name': 'Call of Duty: Modern Warfare 2 - Multiplayer', 'playtime_forever': 1784, 'playtime_2weeks': 0}, {'item_id': '17450', 'item_name': 'Dragon Age: Origins', 'playtime_forever': 4431, 'playtime_2weeks': 0}, {'item_id': '3170', 'item_name': \"King's Bounty: Armored Princess\", 'playtime_forever': 1021, 'playtime_2weeks': 0}, {'item_id': '25900', 'item_name': \"King's Bounty: The Legend\", 'playtime_forever': 1389, 'playtime_2weeks': 0}, {'item_id': '31410', 'item_name': 'Zombie Driver', 'playtime_forever': 95, 'playtime_2weeks': 0}, {'item_id': '24980', 'item_name': 'Mass Effect 2', 'playtime_forever': 5001, 'playtime_2weeks': 0}, {'item_id': '8850', 'item_name': 'BioShock 2', 'playtime_forever': 1504, 'playtime_2weeks': 0}, {'item_id': '409720', 'item_name': 'BioShock 2 Remastered', 'playtime_forever': 0, 'playtime_2weeks': 0}, {'item_id': '46000', 'item_name': 'Bob Came in Pieces', 'playtime_forever': 11, 'playtime_2weeks': 0}, {'item_id': '33230', 'item_name': \"Assassin's Creed II\", 'playtime_forever': 1636, 'playtime_2weeks': 0}, {'item_id': '20820', 'item_name': 'Shatter', 'playtime_forever': 46, 'playtime_2weeks': 0}, {'item_id': '47700', 'item_name': 'Command and Conquer 4: Tiberian Twilight', 'playtime_forever': 85, 'playtime_2weeks': 0}, {'item_id': '24960', 'item_name': 'Battlefield: Bad Company 2', 'playtime_forever': 5716, 'playtime_2weeks': 0}, {'item_id': '43110', 'item_name': 'Metro 2033', 'playtime_forever': 834, 'playtime_2weeks': 0}, {'item_id': '8190', 'item_name': 'Just Cause 2', 'playtime_forever': 3083, 'playtime_2weeks': 0}, {'item_id': '49600', 'item_name': 'Beat Hazard', 'playtime_forever': 127, 'playtime_2weeks': 0}, {'item_id': '31220', 'item_name': 'Sam & Max 301: The Penal Zone', 'playtime_forever': 71, 'playtime_2weeks': 0}, {'item_id': '31230', 'item_name': 'Sam & Max 302: The Tomb of Sammun-Mak', 'playtime_forever': 0, 'playtime_2weeks': 0}, {'item_id': '31240', 'item_name': \"Sam & Max 303: They Stole Max's Brain!\", 'playtime_forever': 0, 'playtime_2weeks': 0}, {'item_id': '31250', 'item_name': 'Sam & Max 304: Beyond the Alley of the Dolls', 'playtime_forever': 0, 'playtime_2weeks': 0}, {'item_id': '31260', 'item_name': 'Sam & Max 305: The City that Dares not Sleep', 'playtime_forever': 0, 'playtime_2weeks': 0}, {'item_id': '21090', 'item_name': 'F.E.A.R.', 'playtime_forever': 585, 'playtime_2weeks': 0}, {'item_id': '21110', 'item_name': 'F.E.A.R.: Extraction Point', 'playtime_forever': 146, 'playtime_2weeks': 0}, {'item_id': '21120', 'item_name': 'F.E.A.R.: Perseus Mandate', 'playtime_forever': 0, 'playtime_2weeks': 0}, {'item_id': '49400', 'item_name': 'Magic: The Gathering - Duels of the Planeswalkers', 'playtime_forever': 32, 'playtime_2weeks': 0}, {'item_id': '33910', 'item_name': 'Arma 2', 'playtime_forever': 3, 'playtime_2weeks': 0}, {'item_id': '33930', 'item_name': 'Arma 2: Operation Arrowhead', 'playtime_forever': 3, 'playtime_2weeks': 0}, {'item_id': '219540', 'item_name': 'Arma 2: Operation Arrowhead Beta (Obsolete)', 'playtime_forever': 0, 'playtime_2weeks': 0}, {'item_id': '17410', 'item_name': \"Mirror's Edge\", 'playtime_forever': 0, 'playtime_2weeks': 0}, {'item_id': '205790', 'item_name': 'Dota 2 Test', 'playtime_forever': 0, 'playtime_2weeks': 0}, {'item_id': '50130', 'item_name': 'Mafia II', 'playtime_forever': 707, 'playtime_2weeks': 0}, {'item_id': '62100', 'item_name': 'Chime', 'playtime_forever': 50, 'playtime_2weeks': 0}, {'item_id': '31280', 'item_name': 'Poker Night at the Inventory', 'playtime_forever': 206, 'playtime_2weeks': 0}, {'item_id': '57300', 'item_name': 'Amnesia: The Dark Descent', 'playtime_forever': 12, 'playtime_2weeks': 0}, {'item_id': '21970', 'item_name': 'R.U.S.E', 'playtime_forever': 64, 'playtime_2weeks': 0}, {'item_id': '8930', 'item_name': \"Sid Meier's Civilization V\", 'playtime_forever': 10345, 'playtime_2weeks': 0}, {'item_id': '41000', 'item_name': 'Serious Sam HD: The First Encounter', 'playtime_forever': 369, 'playtime_2weeks': 0}, {'item_id': '41050', 'item_name': 'Serious Sam Classic: The First Encounter', 'playtime_forever': 76, 'playtime_2weeks': 0}, {'item_id': '41060', 'item_name': 'Serious Sam Classic: The Second Encounter', 'playtime_forever': 0, 'playtime_2weeks': 0}, {'item_id': '227780', 'item_name': 'Serious Sam Classics: Revolution', 'playtime_forever': 0, 'playtime_2weeks': 0}, {'item_id': '18040', 'item_name': 'DeathSpank', 'playtime_forever': 594, 'playtime_2weeks': 0}, {'item_id': '22380', 'item_name': 'Fallout: New Vegas', 'playtime_forever': 43, 'playtime_2weeks': 0}, {'item_id': '42700', 'item_name': 'Call of Duty: Black Ops', 'playtime_forever': 966, 'playtime_2weeks': 0}, {'item_id': '42710', 'item_name': 'Call of Duty: Black Ops - Multiplayer', 'playtime_forever': 2452, 'playtime_2weeks': 0}, {'item_id': '62000', 'item_name': 'Flight Control HD', 'playtime_forever': 25, 'playtime_2weeks': 0}, {'item_id': '40800', 'item_name': 'Super Meat Boy', 'playtime_forever': 119, 'playtime_2weeks': 0}, {'item_id': '9500', 'item_name': 'Gish', 'playtime_forever': 6, 'playtime_2weeks': 0}, {'item_id': '18700', 'item_name': 'And Yet It Moves', 'playtime_forever': 0, 'playtime_2weeks': 0}, {'item_id': '31270', 'item_name': 'Puzzle Agent', 'playtime_forever': 0, 'playtime_2weeks': 0}, {'item_id': '58200', 'item_name': 'Jolly Rover', 'playtime_forever': 0, 'playtime_2weeks': 0}, {'item_id': '70400', 'item_name': \"Recettear: An Item Shop's Tale\", 'playtime_forever': 537, 'playtime_2weeks': 0}, {'item_id': '41300', 'item_name': 'Altitude', 'playtime_forever': 50, 'playtime_2weeks': 0}, {'item_id': '41800', 'item_name': 'Gratuitous Space Battles', 'playtime_forever': 149, 'playtime_2weeks': 0}, {'item_id': '42500', 'item_name': 'DogFighter', 'playtime_forever': 0, 'playtime_2weeks': 0}, {'item_id': '49900', 'item_name': 'Plain Sight', 'playtime_forever': 23, 'playtime_2weeks': 0}, {'item_id': '55000', 'item_name': 'Flotilla', 'playtime_forever': 0, 'playtime_2weeks': 0}, {'item_id': '34330', 'item_name': 'Total War: SHOGUN 2', 'playtime_forever': 1538, 'playtime_2weeks': 0}, {'item_id': '63200', 'item_name': 'Monday Night Combat', 'playtime_forever': 573, 'playtime_2weeks': 0}, {'item_id': '99810', 'item_name': 'Bulletstorm', 'playtime_forever': 2, 'playtime_2weeks': 0}, {'item_id': '620', 'item_name': 'Portal 2', 'playtime_forever': 887, 'playtime_2weeks': 0}, {'item_id': '42910', 'item_name': 'Magicka', 'playtime_forever': 588, 'playtime_2weeks': 0}, {'item_id': '15500', 'item_name': 'The Wonderful End of the World', 'playtime_forever': 0, 'playtime_2weeks': 0}, {'item_id': '15540', 'item_name': '1... 2... 3... KICK IT! (Drop That Beat Like an Ugly Baby)', 'playtime_forever': 4, 'playtime_2weeks': 0}, {'item_id': '18500', 'item_name': 'Defense Grid: The Awakening', 'playtime_forever': 126, 'playtime_2weeks': 0}, {'item_id': '26500', 'item_name': 'Cogs', 'playtime_forever': 0, 'playtime_2weeks': 0}, {'item_id': '35460', 'item_name': 'The Ball', 'playtime_forever': 0, 'playtime_2weeks': 0}, {'item_id': '38700', 'item_name': 'Toki Tori', 'playtime_forever': 0, 'playtime_2weeks': 0}, {'item_id': '38720', 'item_name': 'RUSH', 'playtime_forever': 0, 'playtime_2weeks': 0}, {'item_id': '63700', 'item_name': 'BIT.TRIP BEAT', 'playtime_forever': 0, 'playtime_2weeks': 0}, {'item_id': '280', 'item_name': 'Half-Life: Source', 'playtime_forever': 0, 'playtime_2weeks': 0}, {'item_id': '20920', 'item_name': 'The Witcher 2: Assassins of Kings Enhanced Edition', 'playtime_forever': 1343, 'playtime_2weeks': 0}, {'item_id': '105600', 'item_name': 'Terraria', 'playtime_forever': 772, 'playtime_2weeks': 0}, {'item_id': '98200', 'item_name': 'Frozen Synapse', 'playtime_forever': 9, 'playtime_2weeks': 0}, {'item_id': '4500', 'item_name': 'S.T.A.L.K.E.R.: Shadow of Chernobyl', 'playtime_forever': 0, 'playtime_2weeks': 0}, {'item_id': '4540', 'item_name': 'Titan Quest', 'playtime_forever': 3, 'playtime_2weeks': 0}, {'item_id': '4550', 'item_name': 'Titan Quest: Immortal Throne', 'playtime_forever': 76, 'playtime_2weeks': 0}, {'item_id': '9480', 'item_name': 'Saints Row 2', 'playtime_forever': 0, 'playtime_2weeks': 0}, {'item_id': '15620', 'item_name': 'Warhammer® 40,000™: Dawn of War® II', 'playtime_forever': 2085, 'playtime_2weeks': 0}, {'item_id': '20500', 'item_name': 'Red Faction: Guerrilla Steam Edition', 'playtime_forever': 0, 'playtime_2weeks': 0}, {'item_id': '20570', 'item_name': 'Warhammer® 40,000™: Dawn of War® II - Chaos Rising™', 'playtime_forever': 69, 'playtime_2weeks': 0}, {'item_id': '50620', 'item_name': 'Darksiders', 'playtime_forever': 101, 'playtime_2weeks': 0}, {'item_id': '55100', 'item_name': 'Homefront', 'playtime_forever': 51, 'playtime_2weeks': 0}, {'item_id': '55140', 'item_name': 'MX vs. ATV Reflex', 'playtime_forever': 0, 'playtime_2weeks': 0}, {'item_id': '56400', 'item_name': 'Warhammer® 40,000™: Dawn of War® II – Retribution™', 'playtime_forever': 678, 'playtime_2weeks': 0}, {'item_id': '475150', 'item_name': 'Titan Quest Anniversary Edition', 'playtime_forever': 0, 'playtime_2weeks': 0}, {'item_id': '96100', 'item_name': 'Defy Gravity', 'playtime_forever': 9, 'playtime_2weeks': 0}, {'item_id': '35450', 'item_name': 'Rising Storm/Red Orchestra 2 Multiplayer', 'playtime_forever': 14194, 'playtime_2weeks': 0}, {'item_id': '236830', 'item_name': 'Red Orchestra 2: Heroes of Stalingrad - Single Player', 'playtime_forever': 0, 'playtime_2weeks': 0}, {'item_id': '72850', 'item_name': 'The Elder Scrolls V: Skyrim', 'playtime_forever': 2512, 'playtime_2weeks': 0}, {'item_id': '107100', 'item_name': 'Bastion', 'playtime_forever': 640, 'playtime_2weeks': 0}, {'item_id': '57690', 'item_name': 'Tropico 4', 'playtime_forever': 1815, 'playtime_2weeks': 0}, {'item_id': '91310', 'item_name': 'Dead Island', 'playtime_forever': 2078, 'playtime_2weeks': 0}, {'item_id': '113200', 'item_name': 'The Binding of Isaac', 'playtime_forever': 1494, 'playtime_2weeks': 0}, {'item_id': '65800', 'item_name': 'Dungeon Defenders', 'playtime_forever': 130, 'playtime_2weeks': 0}, {'item_id': '9200', 'item_name': 'RAGE', 'playtime_forever': 653, 'playtime_2weeks': 0}, {'item_id': '41070', 'item_name': 'Serious Sam 3: BFE', 'playtime_forever': 716, 'playtime_2weeks': 0}, {'item_id': '48950', 'item_name': 'Greed Corp', 'playtime_forever': 72, 'playtime_2weeks': 0}, {'item_id': '92800', 'item_name': 'SpaceChem', 'playtime_forever': 262, 'playtime_2weeks': 0}, {'item_id': '104700', 'item_name': 'Super Monday Night Combat', 'playtime_forever': 44, 'playtime_2weeks': 0}, {'item_id': '203770', 'item_name': 'Crusader Kings II', 'playtime_forever': 18, 'playtime_2weeks': 0}, {'item_id': '203810', 'item_name': 'Dear Esther', 'playtime_forever': 86, 'playtime_2weeks': 0}, {'item_id': '110800', 'item_name': 'L.A. Noire', 'playtime_forever': 1204, 'playtime_2weeks': 0}, {'item_id': '207610', 'item_name': 'The Walking Dead', 'playtime_forever': 798, 'playtime_2weeks': 0}, {'item_id': '98300', 'item_name': 'Toy Soldiers', 'playtime_forever': 110, 'playtime_2weeks': 0}, {'item_id': '50300', 'item_name': 'Spec Ops: The Line', 'playtime_forever': 296, 'playtime_2weeks': 0}, {'item_id': '204300', 'item_name': 'Awesomenauts', 'playtime_forever': 0, 'playtime_2weeks': 0}, {'item_id': '1700', 'item_name': 'Arx Fatalis', 'playtime_forever': 0, 'playtime_2weeks': 0}, {'item_id': '205100', 'item_name': 'Dishonored', 'playtime_forever': 1429, 'playtime_2weeks': 0}, {'item_id': '211120', 'item_name': 'The Political Machine', 'playtime_forever': 1, 'playtime_2weeks': 0}, {'item_id': '730', 'item_name': 'Counter-Strike: Global Offensive', 'playtime_forever': 23532, 'playtime_2weeks': 0}, {'item_id': '49520', 'item_name': 'Borderlands 2', 'playtime_forever': 1303, 'playtime_2weeks': 0}, {'item_id': '200260', 'item_name': 'Batman: Arkham City GOTY', 'playtime_forever': 100, 'playtime_2weeks': 0}, {'item_id': '212680', 'item_name': 'FTL: Faster Than Light', 'playtime_forever': 500, 'playtime_2weeks': 0}, {'item_id': '200710', 'item_name': 'Torchlight II', 'playtime_forever': 459, 'playtime_2weeks': 0}, {'item_id': '219150', 'item_name': 'Hotline Miami', 'playtime_forever': 0, 'playtime_2weeks': 0}, {'item_id': '215510', 'item_name': 'Rocketbirds: Hardboiled Chicken', 'playtime_forever': 0, 'playtime_2weeks': 0}, {'item_id': '8870', 'item_name': 'BioShock Infinite', 'playtime_forever': 2084, 'playtime_2weeks': 0}, {'item_id': '200510', 'item_name': 'XCOM: Enemy Unknown', 'playtime_forever': 3478, 'playtime_2weeks': 0}, {'item_id': '220240', 'item_name': 'Far Cry® 3', 'playtime_forever': 182, 'playtime_2weeks': 0}, {'item_id': '218680', 'item_name': 'Scribblenauts Unlimited', 'playtime_forever': 0, 'playtime_2weeks': 0}, {'item_id': '228280', 'item_name': \"Baldur's Gate: Enhanced Edition\", 'playtime_forever': 905, 'playtime_2weeks': 0}, {'item_id': '212070', 'item_name': 'Star Conflict', 'playtime_forever': 0, 'playtime_2weeks': 0}, {'item_id': '218230', 'item_name': 'PlanetSide 2', 'playtime_forever': 51, 'playtime_2weeks': 0}, {'item_id': '236390', 'item_name': 'War Thunder', 'playtime_forever': 50, 'playtime_2weeks': 0}, {'item_id': '3483', 'item_name': 'Peggle Extreme', 'playtime_forever': 0, 'playtime_2weeks': 0}, {'item_id': '203160', 'item_name': 'Tomb Raider', 'playtime_forever': 0, 'playtime_2weeks': 0}, {'item_id': '227080', 'item_name': 'Papo & Yo', 'playtime_forever': 81, 'playtime_2weeks': 0}, {'item_id': '233450', 'item_name': 'Prison Architect', 'playtime_forever': 24, 'playtime_2weeks': 0}, {'item_id': '43160', 'item_name': 'Metro: Last Light', 'playtime_forever': 712, 'playtime_2weeks': 0}, {'item_id': '219740', 'item_name': \"Don't Starve\", 'playtime_forever': 139, 'playtime_2weeks': 0}, {'item_id': '322330', 'item_name': \"Don't Starve Together\", 'playtime_forever': 0, 'playtime_2weeks': 0}, {'item_id': '222730', 'item_name': 'Reus', 'playtime_forever': 319, 'playtime_2weeks': 0}, {'item_id': '241600', 'item_name': 'Rogue Legacy', 'playtime_forever': 73, 'playtime_2weeks': 0}, {'item_id': '238930', 'item_name': '7 Grand Steps, Step 1: What Ancients Begat', 'playtime_forever': 159, 'playtime_2weeks': 0}, {'item_id': '217140', 'item_name': 'Rise of the Triad', 'playtime_forever': 199, 'playtime_2weeks': 0}, {'item_id': '39140', 'item_name': 'FINAL FANTASY VII', 'playtime_forever': 2896, 'playtime_2weeks': 0}, {'item_id': '225080', 'item_name': 'Brothers - A Tale of Two Sons', 'playtime_forever': 0, 'playtime_2weeks': 0}, {'item_id': '239030', 'item_name': 'Papers, Please', 'playtime_forever': 194, 'playtime_2weeks': 0}, {'item_id': '248820', 'item_name': 'Risk of Rain', 'playtime_forever': 272, 'playtime_2weeks': 0}, {'item_id': '239350', 'item_name': 'Spelunky', 'playtime_forever': 458, 'playtime_2weeks': 0}, {'item_id': '218620', 'item_name': 'PAYDAY 2', 'playtime_forever': 574, 'playtime_2weeks': 0}, {'item_id': '206420', 'item_name': 'Saints Row IV', 'playtime_forever': 0, 'playtime_2weeks': 0}, {'item_id': '236850', 'item_name': 'Europa Universalis IV', 'playtime_forever': 89, 'playtime_2weeks': 0}, {'item_id': '47790', 'item_name': 'Medal of Honor(TM) Single Player', 'playtime_forever': 230, 'playtime_2weeks': 0}, {'item_id': '47830', 'item_name': 'Medal of Honor(TM) Multiplayer', 'playtime_forever': 0, 'playtime_2weeks': 0}, {'item_id': '250320', 'item_name': 'The Wolf Among Us', 'playtime_forever': 500, 'playtime_2weeks': 0}, {'item_id': '250900', 'item_name': 'The Binding of Isaac: Rebirth', 'playtime_forever': 329, 'playtime_2weeks': 0}, {'item_id': '204450', 'item_name': 'Call of Juarez Gunslinger', 'playtime_forever': 241, 'playtime_2weeks': 0}, {'item_id': '233270', 'item_name': 'Far Cry® 3 Blood Dragon', 'playtime_forever': 0, 'playtime_2weeks': 0}, {'item_id': '251990', 'item_name': 'Long Live The Queen', 'playtime_forever': 135, 'playtime_2weeks': 0}, {'item_id': '253980', 'item_name': 'Enclave', 'playtime_forever': 0, 'playtime_2weeks': 0}, {'item_id': '236450', 'item_name': 'PAC-MAN Championship Edition DX+', 'playtime_forever': 154, 'playtime_2weeks': 0}, {'item_id': '242050', 'item_name': \"Assassin's Creed IV Black Flag\", 'playtime_forever': 1377, 'playtime_2weeks': 0}, {'item_id': '257350', 'item_name': \"Baldur's Gate II: Enhanced Edition\", 'playtime_forever': 0, 'playtime_2weeks': 0}, {'item_id': '213670', 'item_name': 'South Park™: The Stick of Truth™', 'playtime_forever': 121, 'playtime_2weeks': 0}, {'item_id': '238010', 'item_name': \"Deus Ex: Human Revolution - Director's Cut\", 'playtime_forever': 2176, 'playtime_2weeks': 0}, {'item_id': '245470', 'item_name': 'Democracy 3', 'playtime_forever': 246, 'playtime_2weeks': 0}, {'item_id': '221910', 'item_name': 'The Stanley Parable', 'playtime_forever': 157, 'playtime_2weeks': 0}, {'item_id': '260230', 'item_name': 'Valiant Hearts: The Great War™ / Soldats Inconnus : Mémoires de la Grande Guerre™', 'playtime_forever': 467, 'playtime_2weeks': 0}, {'item_id': '238430', 'item_name': 'Contagion', 'playtime_forever': 77, 'playtime_2weeks': 0}, {'item_id': '261030', 'item_name': 'The Walking Dead: Season Two', 'playtime_forever': 567, 'playtime_2weeks': 0}, {'item_id': '261570', 'item_name': 'Ori and the Blind Forest', 'playtime_forever': 39, 'playtime_2weeks': 0}, {'item_id': '263980', 'item_name': 'Out There Somewhere', 'playtime_forever': 0, 'playtime_2weeks': 0}, {'item_id': '39150', 'item_name': 'FINAL FANTASY VIII', 'playtime_forever': 15, 'playtime_2weeks': 0}, {'item_id': '230230', 'item_name': 'Divinity: Original Sin (Classic)', 'playtime_forever': 522, 'playtime_2weeks': 0}, {'item_id': '373420', 'item_name': 'Divinity: Original Sin Enhanced Edition', 'playtime_forever': 0, 'playtime_2weeks': 0}, {'item_id': '232790', 'item_name': 'Broken Age', 'playtime_forever': 216, 'playtime_2weeks': 0}, {'item_id': '237990', 'item_name': 'The Banner Saga', 'playtime_forever': 19, 'playtime_2weeks': 0}, {'item_id': '273620', 'item_name': 'Freespace 2', 'playtime_forever': 848, 'playtime_2weeks': 0}, {'item_id': '222880', 'item_name': 'Insurgency', 'playtime_forever': 3031, 'playtime_2weeks': 0}, {'item_id': '225840', 'item_name': 'Sven Co-op', 'playtime_forever': 26, 'playtime_2weeks': 0}, {'item_id': '222900', 'item_name': 'Dead Island: Epidemic', 'playtime_forever': 0, 'playtime_2weeks': 0}, {'item_id': '280220', 'item_name': 'Creeper World 3: Arc Eternal', 'playtime_forever': 941, 'playtime_2weeks': 0}, {'item_id': '236430', 'item_name': 'DARK SOULS™ II', 'playtime_forever': 592, 'playtime_2weeks': 0}, {'item_id': '201810', 'item_name': 'Wolfenstein: The New Order', 'playtime_forever': 599, 'playtime_2weeks': 0}, {'item_id': '294860', 'item_name': 'Valkyria Chronicles™', 'playtime_forever': 1735, 'playtime_2weeks': 0}, {'item_id': '295690', 'item_name': 'PARTICLE MACE', 'playtime_forever': 0, 'playtime_2weeks': 0}, {'item_id': '238460', 'item_name': 'BattleBlock Theater', 'playtime_forever': 407, 'playtime_2weeks': 0}, {'item_id': '237930', 'item_name': 'Transistor', 'playtime_forever': 154, 'playtime_2weeks': 0}, {'item_id': '301480', 'item_name': 'GEARCRACK Arena', 'playtime_forever': 0, 'playtime_2weeks': 0}, {'item_id': '303390', 'item_name': 'Dead Bits', 'playtime_forever': 0, 'playtime_2weeks': 0}, {'item_id': '306660', 'item_name': 'Ultimate General: Gettysburg', 'playtime_forever': 1245, 'playtime_2weeks': 0}, {'item_id': '316790', 'item_name': 'Grim Fandango Remastered', 'playtime_forever': 42, 'playtime_2weeks': 0}, {'item_id': '318430', 'item_name': 'Squishy the Suicidal Pig', 'playtime_forever': 0, 'playtime_2weeks': 0}, {'item_id': '241930', 'item_name': 'Middle-earth: Shadow of Mordor', 'playtime_forever': 889, 'playtime_2weeks': 0}, {'item_id': '328080', 'item_name': 'Retro-Pixel Castles', 'playtime_forever': 5, 'playtime_2weeks': 0}, {'item_id': '282070', 'item_name': 'This War of Mine', 'playtime_forever': 3, 'playtime_2weeks': 0}, {'item_id': '333930', 'item_name': 'Dirty Bomb', 'playtime_forever': 2782, 'playtime_2weeks': 0}, {'item_id': '334120', 'item_name': 'Armikrog', 'playtime_forever': 109, 'playtime_2weeks': 0}, {'item_id': '257510', 'item_name': 'The Talos Principle', 'playtime_forever': 0, 'playtime_2weeks': 0}, {'item_id': '319630', 'item_name': 'Life Is Strange™', 'playtime_forever': 37, 'playtime_2weeks': 0}, {'item_id': '346010', 'item_name': 'Besiege', 'playtime_forever': 464, 'playtime_2weeks': 0}, {'item_id': '255710', 'item_name': 'Cities: Skylines', 'playtime_forever': 246, 'playtime_2weeks': 0}, {'item_id': '232090', 'item_name': 'Killing Floor 2', 'playtime_forever': 6494, 'playtime_2weeks': 0}, {'item_id': '232150', 'item_name': 'Killing Floor 2 - SDK', 'playtime_forever': 0, 'playtime_2weeks': 0}, {'item_id': '377160', 'item_name': 'Fallout 4', 'playtime_forever': 2001, 'playtime_2weeks': 0}, {'item_id': '340170', 'item_name': 'FINAL FANTASY TYPE-0 HD', 'playtime_forever': 170, 'playtime_2weeks': 0}, {'item_id': '391540', 'item_name': 'Undertale', 'playtime_forever': 395, 'playtime_2weeks': 0}, {'item_id': '396660', 'item_name': 'Tahira: Echoes of the Astral Empire', 'playtime_forever': 0, 'playtime_2weeks': 0}, {'item_id': '337000', 'item_name': 'Deus Ex: Mankind Divided™', 'playtime_forever': 1159, 'playtime_2weeks': 0}, {'item_id': '368230', 'item_name': 'Kingdom: Classic', 'playtime_forever': 83, 'playtime_2weeks': 0}, {'item_id': '496300', 'item_name': 'Kingdom: New Lands', 'playtime_forever': 0, 'playtime_2weeks': 0}, {'item_id': '231430', 'item_name': 'Company of Heroes 2', 'playtime_forever': 0, 'playtime_2weeks': 0}, {'item_id': '289130', 'item_name': 'Endless Legend', 'playtime_forever': 593, 'playtime_2weeks': 0}, {'item_id': '268500', 'item_name': 'XCOM 2', 'playtime_forever': 1495, 'playtime_2weeks': 0}, {'item_id': '461640', 'item_name': 'Sins Of The Demon RPG', 'playtime_forever': 0, 'playtime_2weeks': 0}, {'item_id': '379720', 'item_name': 'DOOM', 'playtime_forever': 793, 'playtime_2weeks': 0}, {'item_id': '273350', 'item_name': 'Evolve Stage 2', 'playtime_forever': 58, 'playtime_2weeks': 0}]\n"
     ]
    }
   ],
   "source": [
    "print(item_df['items'][0])"
   ]
  },
  {
   "cell_type": "markdown",
   "metadata": {},
   "source": [
    "Desanidado de items"
   ]
  },
  {
   "cell_type": "code",
   "execution_count": 17,
   "metadata": {},
   "outputs": [],
   "source": [
    "### Aplico la funcion lambda para desanidar las keys que busco con sus values ###\n",
    "item_df['playtime_forever'] = item_df['items'].apply(lambda x: x[0].get('playtime_forever') if len(x) > 0 else 0)\n",
    "item_df['playtime_2weeks'] = item_df['items'].apply(lambda x: x[0].get('playtime_2weeks') if len(x) > 0 else 0)\n",
    "item_df['id'] = item_df['items'].apply(lambda x: x[0].get('item_id') if len(x) > 0 else 0)\n",
    "item_df['playtime_forever'] = item_df['playtime_forever'].astype(int)\n",
    "item_df['playtime_2weeks'] = item_df['playtime_2weeks'].astype(int)"
   ]
  },
  {
   "cell_type": "markdown",
   "metadata": {},
   "source": [
    "Dropeo columnas que no voy a necesitar"
   ]
  },
  {
   "cell_type": "code",
   "execution_count": 18,
   "metadata": {},
   "outputs": [],
   "source": [
    "item_df.drop(['user_url'], axis=1, inplace=True)\n",
    "item_df.drop(['items'], axis=1, inplace=True)"
   ]
  },
  {
   "cell_type": "code",
   "execution_count": 19,
   "metadata": {},
   "outputs": [
    {
     "data": {
      "text/html": [
       "<div>\n",
       "<style scoped>\n",
       "    .dataframe tbody tr th:only-of-type {\n",
       "        vertical-align: middle;\n",
       "    }\n",
       "\n",
       "    .dataframe tbody tr th {\n",
       "        vertical-align: top;\n",
       "    }\n",
       "\n",
       "    .dataframe thead th {\n",
       "        text-align: right;\n",
       "    }\n",
       "</style>\n",
       "<table border=\"1\" class=\"dataframe\">\n",
       "  <thead>\n",
       "    <tr style=\"text-align: right;\">\n",
       "      <th></th>\n",
       "      <th>user_id</th>\n",
       "      <th>items_count</th>\n",
       "      <th>steam_id</th>\n",
       "      <th>playtime_forever</th>\n",
       "      <th>playtime_2weeks</th>\n",
       "      <th>id</th>\n",
       "    </tr>\n",
       "  </thead>\n",
       "  <tbody>\n",
       "    <tr>\n",
       "      <th>0</th>\n",
       "      <td>76561197970982479</td>\n",
       "      <td>277</td>\n",
       "      <td>76561197970982479</td>\n",
       "      <td>6</td>\n",
       "      <td>0</td>\n",
       "      <td>10</td>\n",
       "    </tr>\n",
       "    <tr>\n",
       "      <th>1</th>\n",
       "      <td>js41637</td>\n",
       "      <td>888</td>\n",
       "      <td>76561198035864385</td>\n",
       "      <td>0</td>\n",
       "      <td>0</td>\n",
       "      <td>10</td>\n",
       "    </tr>\n",
       "    <tr>\n",
       "      <th>2</th>\n",
       "      <td>evcentric</td>\n",
       "      <td>137</td>\n",
       "      <td>76561198007712555</td>\n",
       "      <td>923</td>\n",
       "      <td>0</td>\n",
       "      <td>1200</td>\n",
       "    </tr>\n",
       "    <tr>\n",
       "      <th>3</th>\n",
       "      <td>Riot-Punch</td>\n",
       "      <td>328</td>\n",
       "      <td>76561197963445855</td>\n",
       "      <td>0</td>\n",
       "      <td>0</td>\n",
       "      <td>10</td>\n",
       "    </tr>\n",
       "    <tr>\n",
       "      <th>4</th>\n",
       "      <td>doctr</td>\n",
       "      <td>541</td>\n",
       "      <td>76561198002099482</td>\n",
       "      <td>1131</td>\n",
       "      <td>0</td>\n",
       "      <td>300</td>\n",
       "    </tr>\n",
       "    <tr>\n",
       "      <th>...</th>\n",
       "      <td>...</td>\n",
       "      <td>...</td>\n",
       "      <td>...</td>\n",
       "      <td>...</td>\n",
       "      <td>...</td>\n",
       "      <td>...</td>\n",
       "    </tr>\n",
       "    <tr>\n",
       "      <th>88305</th>\n",
       "      <td>76561198323066619</td>\n",
       "      <td>22</td>\n",
       "      <td>76561198323066619</td>\n",
       "      <td>0</td>\n",
       "      <td>0</td>\n",
       "      <td>413850</td>\n",
       "    </tr>\n",
       "    <tr>\n",
       "      <th>88306</th>\n",
       "      <td>76561198326700687</td>\n",
       "      <td>177</td>\n",
       "      <td>76561198326700687</td>\n",
       "      <td>0</td>\n",
       "      <td>0</td>\n",
       "      <td>11020</td>\n",
       "    </tr>\n",
       "    <tr>\n",
       "      <th>88307</th>\n",
       "      <td>XxLaughingJackClown77xX</td>\n",
       "      <td>0</td>\n",
       "      <td>76561198328759259</td>\n",
       "      <td>0</td>\n",
       "      <td>0</td>\n",
       "      <td>0</td>\n",
       "    </tr>\n",
       "    <tr>\n",
       "      <th>88308</th>\n",
       "      <td>76561198329548331</td>\n",
       "      <td>7</td>\n",
       "      <td>76561198329548331</td>\n",
       "      <td>677</td>\n",
       "      <td>677</td>\n",
       "      <td>304930</td>\n",
       "    </tr>\n",
       "    <tr>\n",
       "      <th>88309</th>\n",
       "      <td>edward_tremethick</td>\n",
       "      <td>0</td>\n",
       "      <td>76561198331598578</td>\n",
       "      <td>0</td>\n",
       "      <td>0</td>\n",
       "      <td>0</td>\n",
       "    </tr>\n",
       "  </tbody>\n",
       "</table>\n",
       "<p>88310 rows × 6 columns</p>\n",
       "</div>"
      ],
      "text/plain": [
       "                       user_id  items_count           steam_id  \\\n",
       "0            76561197970982479          277  76561197970982479   \n",
       "1                      js41637          888  76561198035864385   \n",
       "2                    evcentric          137  76561198007712555   \n",
       "3                   Riot-Punch          328  76561197963445855   \n",
       "4                        doctr          541  76561198002099482   \n",
       "...                        ...          ...                ...   \n",
       "88305        76561198323066619           22  76561198323066619   \n",
       "88306        76561198326700687          177  76561198326700687   \n",
       "88307  XxLaughingJackClown77xX            0  76561198328759259   \n",
       "88308        76561198329548331            7  76561198329548331   \n",
       "88309        edward_tremethick            0  76561198331598578   \n",
       "\n",
       "       playtime_forever  playtime_2weeks      id  \n",
       "0                     6                0      10  \n",
       "1                     0                0      10  \n",
       "2                   923                0    1200  \n",
       "3                     0                0      10  \n",
       "4                  1131                0     300  \n",
       "...                 ...              ...     ...  \n",
       "88305                 0                0  413850  \n",
       "88306                 0                0   11020  \n",
       "88307                 0                0       0  \n",
       "88308               677              677  304930  \n",
       "88309                 0                0       0  \n",
       "\n",
       "[88310 rows x 6 columns]"
      ]
     },
     "execution_count": 19,
     "metadata": {},
     "output_type": "execute_result"
    }
   ],
   "source": [
    "item_df ### Veamos como va la tabla"
   ]
  },
  {
   "cell_type": "code",
   "execution_count": 20,
   "metadata": {},
   "outputs": [],
   "source": [
    "item_df.to_csv('clean_items.csv', index=False)"
   ]
  },
  {
   "cell_type": "markdown",
   "metadata": {},
   "source": [
    "### Elaboracion del Dataset final"
   ]
  },
  {
   "cell_type": "markdown",
   "metadata": {},
   "source": [
    "A traves de los ids podemos unir las tablas para ocupar menos espacio"
   ]
  },
  {
   "cell_type": "code",
   "execution_count": 34,
   "metadata": {},
   "outputs": [],
   "source": [
    "merged_dataframe = pd.merge(dfgames, item_df, on='id') ### Se combinan las tablas ya desanidadas"
   ]
  },
  {
   "cell_type": "code",
   "execution_count": 35,
   "metadata": {},
   "outputs": [],
   "source": [
    "merged_dataframe.drop(['genres'],axis=1, inplace=True) ### 'genres' ya no es necesario usarlo"
   ]
  },
  {
   "cell_type": "code",
   "execution_count": 36,
   "metadata": {},
   "outputs": [
    {
     "data": {
      "text/plain": [
       "(62229, 29)"
      ]
     },
     "execution_count": 36,
     "metadata": {},
     "output_type": "execute_result"
    }
   ],
   "source": [
    "merged_dataframe.shape ### Revisamos con que dimensiones queda finalmente"
   ]
  },
  {
   "cell_type": "code",
   "execution_count": 37,
   "metadata": {},
   "outputs": [],
   "source": [
    "merged_dataframe.to_csv('Df_Final.csv', index=False)"
   ]
  },
  {
   "cell_type": "code",
   "execution_count": 38,
   "metadata": {},
   "outputs": [],
   "source": [
    "df_reviews = pd.read_csv('clean_reviews.csv') ### Cargamos reviews para unirlo posteriormente"
   ]
  },
  {
   "cell_type": "code",
   "execution_count": 39,
   "metadata": {},
   "outputs": [],
   "source": [
    "final_df = pd.merge(merged_dataframe, df_reviews, on = 'user_id') ### Se une el dataset combinado con el dataset Items"
   ]
  },
  {
   "cell_type": "code",
   "execution_count": null,
   "metadata": {},
   "outputs": [],
   "source": [
    "final_df.to_csv('df_final.csv', index=False) ### Se guarda el dataset final"
   ]
  },
  {
   "cell_type": "markdown",
   "metadata": {},
   "source": [
    "Revisamos columnas finales para verificar si hay algo por borrar"
   ]
  },
  {
   "cell_type": "code",
   "execution_count": 40,
   "metadata": {},
   "outputs": [
    {
     "data": {
      "text/plain": [
       "Index(['title', 'id', 'Action', 'Adventure', 'Animation &amp; Modeling',\n",
       "       'Audio Production', 'Casual', 'Design &amp; Illustration',\n",
       "       'Early Access', 'Education', 'Free to Play', 'Indie',\n",
       "       'Massively Multiplayer', 'Photo Editing', 'RPG', 'Racing', 'Simulation',\n",
       "       'Software Training', 'Sports', 'Strategy', 'Utilities',\n",
       "       'Video Production', 'Web Publishing', 'year', 'user_id', 'items_count',\n",
       "       'steam_id', 'playtime_forever', 'playtime_2weeks', 'Unnamed: 0',\n",
       "       'user_url', 'funny', 'posted', 'last_edited', 'item_id', 'helpful',\n",
       "       'recommend', 'review', '0', 'posted year', 'sentiment_score'],\n",
       "      dtype='object')"
      ]
     },
     "execution_count": 40,
     "metadata": {},
     "output_type": "execute_result"
    }
   ],
   "source": [
    "final_df.columns"
   ]
  },
  {
   "cell_type": "markdown",
   "metadata": {},
   "source": [
    "Borramos columnas que se agregaron con el merge"
   ]
  },
  {
   "cell_type": "code",
   "execution_count": 41,
   "metadata": {},
   "outputs": [],
   "source": [
    "final_df.drop(columns=['0', 'Unnamed: 0'], inplace=True)"
   ]
  },
  {
   "cell_type": "markdown",
   "metadata": {},
   "source": [
    "### Dataset Finalizado"
   ]
  },
  {
   "cell_type": "code",
   "execution_count": 43,
   "metadata": {},
   "outputs": [],
   "source": [
    "final_df.to_csv('df_final.csv', index=False)"
   ]
  }
 ],
 "metadata": {
  "kernelspec": {
   "display_name": "Python 3",
   "language": "python",
   "name": "python3"
  },
  "language_info": {
   "codemirror_mode": {
    "name": "ipython",
    "version": 3
   },
   "file_extension": ".py",
   "mimetype": "text/x-python",
   "name": "python",
   "nbconvert_exporter": "python",
   "pygments_lexer": "ipython3",
   "version": "3.10.9"
  }
 },
 "nbformat": 4,
 "nbformat_minor": 2
}
